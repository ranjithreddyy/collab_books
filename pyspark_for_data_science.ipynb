{
  "metadata": {
    "kernelspec": {
      "language": "python",
      "display_name": "Python 3",
      "name": "python3"
    },
    "language_info": {
      "name": "python",
      "version": "3.7.6",
      "mimetype": "text/x-python",
      "codemirror_mode": {
        "name": "ipython",
        "version": 3
      },
      "pygments_lexer": "ipython3",
      "nbconvert_exporter": "python",
      "file_extension": ".py"
    },
    "colab": {
      "provenance": [],
      "collapsed_sections": [
        "FoxNhwKhkm_C",
        "7G6ucXnAkm_C"
      ],
      "include_colab_link": true
    }
  },
  "nbformat_minor": 0,
  "nbformat": 4,
  "cells": [
    {
      "cell_type": "markdown",
      "metadata": {
        "id": "view-in-github",
        "colab_type": "text"
      },
      "source": [
        "<a href=\"https://colab.research.google.com/github/ranjithreddyy/collab_books/blob/main/pyspark_for_data_science.ipynb\" target=\"_parent\"><img src=\"https://colab.research.google.com/assets/colab-badge.svg\" alt=\"Open In Colab\"/></a>"
      ]
    },
    {
      "cell_type": "markdown",
      "source": [
        "download kaggle json from kaggle webite \n",
        "https://www.kaggle.com/code/ranjithwxyz/pyspark-for-data-science/edit\n"
      ],
      "metadata": {
        "id": "38nqLR980DDc"
      }
    },
    {
      "cell_type": "code",
      "source": [
        "from google.colab import files\n",
        "\n",
        "files.upload()\n",
        "! mkdir ~/.kaggle\n",
        "! cp kaggle.json ~/.kaggle/\n",
        "! chmod 600 ~/.kaggle/kaggle.json\n",
        "!kaggle competitions download -c titanic\n",
        "!kaggle datasets download -d tientd95/movierating\n",
        "!unzip titanic.zip\n",
        "!unzip movierating.zip"
      ],
      "metadata": {
        "colab": {
          "base_uri": "https://localhost:8080/",
          "height": 282
        },
        "id": "uSyHco79lAcC",
        "outputId": "64ef1a16-f85e-4fb1-da98-b82f142dac47"
      },
      "execution_count": null,
      "outputs": [
        {
          "output_type": "display_data",
          "data": {
            "text/plain": [
              "<IPython.core.display.HTML object>"
            ],
            "text/html": [
              "\n",
              "     <input type=\"file\" id=\"files-045c1cab-0a89-410a-866b-da0ee4841479\" name=\"files[]\" multiple disabled\n",
              "        style=\"border:none\" />\n",
              "     <output id=\"result-045c1cab-0a89-410a-866b-da0ee4841479\">\n",
              "      Upload widget is only available when the cell has been executed in the\n",
              "      current browser session. Please rerun this cell to enable.\n",
              "      </output>\n",
              "      <script>// Copyright 2017 Google LLC\n",
              "//\n",
              "// Licensed under the Apache License, Version 2.0 (the \"License\");\n",
              "// you may not use this file except in compliance with the License.\n",
              "// You may obtain a copy of the License at\n",
              "//\n",
              "//      http://www.apache.org/licenses/LICENSE-2.0\n",
              "//\n",
              "// Unless required by applicable law or agreed to in writing, software\n",
              "// distributed under the License is distributed on an \"AS IS\" BASIS,\n",
              "// WITHOUT WARRANTIES OR CONDITIONS OF ANY KIND, either express or implied.\n",
              "// See the License for the specific language governing permissions and\n",
              "// limitations under the License.\n",
              "\n",
              "/**\n",
              " * @fileoverview Helpers for google.colab Python module.\n",
              " */\n",
              "(function(scope) {\n",
              "function span(text, styleAttributes = {}) {\n",
              "  const element = document.createElement('span');\n",
              "  element.textContent = text;\n",
              "  for (const key of Object.keys(styleAttributes)) {\n",
              "    element.style[key] = styleAttributes[key];\n",
              "  }\n",
              "  return element;\n",
              "}\n",
              "\n",
              "// Max number of bytes which will be uploaded at a time.\n",
              "const MAX_PAYLOAD_SIZE = 100 * 1024;\n",
              "\n",
              "function _uploadFiles(inputId, outputId) {\n",
              "  const steps = uploadFilesStep(inputId, outputId);\n",
              "  const outputElement = document.getElementById(outputId);\n",
              "  // Cache steps on the outputElement to make it available for the next call\n",
              "  // to uploadFilesContinue from Python.\n",
              "  outputElement.steps = steps;\n",
              "\n",
              "  return _uploadFilesContinue(outputId);\n",
              "}\n",
              "\n",
              "// This is roughly an async generator (not supported in the browser yet),\n",
              "// where there are multiple asynchronous steps and the Python side is going\n",
              "// to poll for completion of each step.\n",
              "// This uses a Promise to block the python side on completion of each step,\n",
              "// then passes the result of the previous step as the input to the next step.\n",
              "function _uploadFilesContinue(outputId) {\n",
              "  const outputElement = document.getElementById(outputId);\n",
              "  const steps = outputElement.steps;\n",
              "\n",
              "  const next = steps.next(outputElement.lastPromiseValue);\n",
              "  return Promise.resolve(next.value.promise).then((value) => {\n",
              "    // Cache the last promise value to make it available to the next\n",
              "    // step of the generator.\n",
              "    outputElement.lastPromiseValue = value;\n",
              "    return next.value.response;\n",
              "  });\n",
              "}\n",
              "\n",
              "/**\n",
              " * Generator function which is called between each async step of the upload\n",
              " * process.\n",
              " * @param {string} inputId Element ID of the input file picker element.\n",
              " * @param {string} outputId Element ID of the output display.\n",
              " * @return {!Iterable<!Object>} Iterable of next steps.\n",
              " */\n",
              "function* uploadFilesStep(inputId, outputId) {\n",
              "  const inputElement = document.getElementById(inputId);\n",
              "  inputElement.disabled = false;\n",
              "\n",
              "  const outputElement = document.getElementById(outputId);\n",
              "  outputElement.innerHTML = '';\n",
              "\n",
              "  const pickedPromise = new Promise((resolve) => {\n",
              "    inputElement.addEventListener('change', (e) => {\n",
              "      resolve(e.target.files);\n",
              "    });\n",
              "  });\n",
              "\n",
              "  const cancel = document.createElement('button');\n",
              "  inputElement.parentElement.appendChild(cancel);\n",
              "  cancel.textContent = 'Cancel upload';\n",
              "  const cancelPromise = new Promise((resolve) => {\n",
              "    cancel.onclick = () => {\n",
              "      resolve(null);\n",
              "    };\n",
              "  });\n",
              "\n",
              "  // Wait for the user to pick the files.\n",
              "  const files = yield {\n",
              "    promise: Promise.race([pickedPromise, cancelPromise]),\n",
              "    response: {\n",
              "      action: 'starting',\n",
              "    }\n",
              "  };\n",
              "\n",
              "  cancel.remove();\n",
              "\n",
              "  // Disable the input element since further picks are not allowed.\n",
              "  inputElement.disabled = true;\n",
              "\n",
              "  if (!files) {\n",
              "    return {\n",
              "      response: {\n",
              "        action: 'complete',\n",
              "      }\n",
              "    };\n",
              "  }\n",
              "\n",
              "  for (const file of files) {\n",
              "    const li = document.createElement('li');\n",
              "    li.append(span(file.name, {fontWeight: 'bold'}));\n",
              "    li.append(span(\n",
              "        `(${file.type || 'n/a'}) - ${file.size} bytes, ` +\n",
              "        `last modified: ${\n",
              "            file.lastModifiedDate ? file.lastModifiedDate.toLocaleDateString() :\n",
              "                                    'n/a'} - `));\n",
              "    const percent = span('0% done');\n",
              "    li.appendChild(percent);\n",
              "\n",
              "    outputElement.appendChild(li);\n",
              "\n",
              "    const fileDataPromise = new Promise((resolve) => {\n",
              "      const reader = new FileReader();\n",
              "      reader.onload = (e) => {\n",
              "        resolve(e.target.result);\n",
              "      };\n",
              "      reader.readAsArrayBuffer(file);\n",
              "    });\n",
              "    // Wait for the data to be ready.\n",
              "    let fileData = yield {\n",
              "      promise: fileDataPromise,\n",
              "      response: {\n",
              "        action: 'continue',\n",
              "      }\n",
              "    };\n",
              "\n",
              "    // Use a chunked sending to avoid message size limits. See b/62115660.\n",
              "    let position = 0;\n",
              "    do {\n",
              "      const length = Math.min(fileData.byteLength - position, MAX_PAYLOAD_SIZE);\n",
              "      const chunk = new Uint8Array(fileData, position, length);\n",
              "      position += length;\n",
              "\n",
              "      const base64 = btoa(String.fromCharCode.apply(null, chunk));\n",
              "      yield {\n",
              "        response: {\n",
              "          action: 'append',\n",
              "          file: file.name,\n",
              "          data: base64,\n",
              "        },\n",
              "      };\n",
              "\n",
              "      let percentDone = fileData.byteLength === 0 ?\n",
              "          100 :\n",
              "          Math.round((position / fileData.byteLength) * 100);\n",
              "      percent.textContent = `${percentDone}% done`;\n",
              "\n",
              "    } while (position < fileData.byteLength);\n",
              "  }\n",
              "\n",
              "  // All done.\n",
              "  yield {\n",
              "    response: {\n",
              "      action: 'complete',\n",
              "    }\n",
              "  };\n",
              "}\n",
              "\n",
              "scope.google = scope.google || {};\n",
              "scope.google.colab = scope.google.colab || {};\n",
              "scope.google.colab._files = {\n",
              "  _uploadFiles,\n",
              "  _uploadFilesContinue,\n",
              "};\n",
              "})(self);\n",
              "</script> "
            ]
          },
          "metadata": {}
        },
        {
          "output_type": "stream",
          "name": "stdout",
          "text": [
            "Saving kaggle.json to kaggle.json\n",
            "Downloading titanic.zip to /content\n",
            "  0% 0.00/34.1k [00:00<?, ?B/s]\n",
            "100% 34.1k/34.1k [00:00<00:00, 23.4MB/s]\n",
            "Downloading movierating.zip to /content\n",
            "  0% 0.00/383k [00:00<?, ?B/s]\n",
            "100% 383k/383k [00:00<00:00, 95.3MB/s]\n",
            "Archive:  titanic.zip\n",
            "  inflating: gender_submission.csv   \n",
            "  inflating: test.csv                \n",
            "  inflating: train.csv               \n",
            "Archive:  movierating.zip\n",
            "  inflating: movie_ratings_df.csv    \n"
          ]
        }
      ]
    },
    {
      "cell_type": "markdown",
      "source": [
        "Spark aims at light_speed, ease-of-use, extensibility in very large data system. Companies with large data center often deploy model on Spark in order to get the robust and scalable benefit on production level.\n",
        "Spark has introduced high-level APIs in Java, Scala, Python, and R. \n",
        "I use Pyspark for the familiarity. \n",
        "\n",
        "![Spark-in-Big-Data-Pipeline.png](attachment:Spark-in-Big-Data-Pipeline.png)\n",
        "\n",
        "This kernel focusing on <font color=\"red\"><b>Data processing</b></font> in  PySparkSQL/DataFrame and <font color=\"red\"><b>modelling</b></font> with Spark Machine learning (Mlib) library.\n",
        "\n",
        "\n",
        "Thank you for reading my work and hoping you like it"
      ],
      "metadata": {
        "id": "rTiCsIZQkm-t"
      }
    },
    {
      "cell_type": "markdown",
      "source": [
        "have to download kaggle api from kaggle website to download the files from kaggle website \n"
      ],
      "metadata": {
        "id": "_nK9Jq5vz1kF"
      }
    },
    {
      "cell_type": "markdown",
      "source": [
        "pip install pipenv<a class=\"anchor\" id=\"0.1\"></a>\n",
        "\n",
        "# **Table of Contents**\n",
        "\n",
        "\n",
        "1.\t[Movie Recommendation with Pyspark](#1)\n",
        "2.\t[Classification model in Pyspark](#2)\n",
        "    - 2.1\t[EDA in Pyspark](#2.1)\n",
        "    - 2.2   [Machine learning in Pyspark](#2.2)"
      ],
      "metadata": {
        "id": "Qk6GJQF8km-2"
      }
    },
    {
      "cell_type": "code",
      "source": [
        "!pip install pyspark"
      ],
      "metadata": {
        "execution": {
          "iopub.status.busy": "2022-11-07T00:47:14.360935Z",
          "iopub.execute_input": "2022-11-07T00:47:14.361633Z",
          "iopub.status.idle": "2022-11-07T00:48:01.324315Z",
          "shell.execute_reply.started": "2022-11-07T00:47:14.361565Z",
          "shell.execute_reply": "2022-11-07T00:48:01.323205Z"
        },
        "trusted": true,
        "colab": {
          "base_uri": "https://localhost:8080/"
        },
        "id": "KUfydFE3km-4",
        "outputId": "4160006c-815a-436c-e63f-7eabe72ec95a"
      },
      "execution_count": null,
      "outputs": [
        {
          "output_type": "stream",
          "name": "stdout",
          "text": [
            "Looking in indexes: https://pypi.org/simple, https://us-python.pkg.dev/colab-wheels/public/simple/\n",
            "Collecting pyspark\n",
            "  Downloading pyspark-3.3.1.tar.gz (281.4 MB)\n",
            "\u001b[K     |████████████████████████████████| 281.4 MB 37 kB/s \n",
            "\u001b[?25hCollecting py4j==0.10.9.5\n",
            "  Downloading py4j-0.10.9.5-py2.py3-none-any.whl (199 kB)\n",
            "\u001b[K     |████████████████████████████████| 199 kB 54.7 MB/s \n",
            "\u001b[?25hBuilding wheels for collected packages: pyspark\n",
            "  Building wheel for pyspark (setup.py) ... \u001b[?25l\u001b[?25hdone\n",
            "  Created wheel for pyspark: filename=pyspark-3.3.1-py2.py3-none-any.whl size=281845513 sha256=772b6d273920c57b306bb5b1e44c24c2a064b5bdb0ef4c611a7dd5a779471b6f\n",
            "  Stored in directory: /root/.cache/pip/wheels/42/59/f5/79a5bf931714dcd201b26025347785f087370a10a3329a899c\n",
            "Successfully built pyspark\n",
            "Installing collected packages: py4j, pyspark\n",
            "Successfully installed py4j-0.10.9.5 pyspark-3.3.1\n"
          ]
        }
      ]
    },
    {
      "cell_type": "code",
      "source": [
        "import numpy as np # linear algebra\n",
        "import pandas as pd # data processing, CSV file I/O (e.g. pd.read_csv)\n",
        "import matplotlib.pyplot as plt\n",
        "import seaborn as sns\n",
        "import sklearn\n",
        "import random\n",
        "import os\n",
        "\n",
        "from pyspark.sql import SparkSession \n",
        "from pyspark.ml  import Pipeline     \n",
        "from pyspark.sql import SQLContext  \n",
        "from pyspark.sql.functions import mean,col,split, col, regexp_extract, when, lit\n",
        "from pyspark.ml.feature import StringIndexer, VectorAssembler\n",
        "from pyspark.ml.evaluation import MulticlassClassificationEvaluator\n",
        "from pyspark.ml.feature import QuantileDiscretizer"
      ],
      "metadata": {
        "execution": {
          "iopub.status.busy": "2022-11-07T00:48:06.534174Z",
          "iopub.execute_input": "2022-11-07T00:48:06.534581Z",
          "iopub.status.idle": "2022-11-07T00:48:06.542066Z",
          "shell.execute_reply.started": "2022-11-07T00:48:06.534542Z",
          "shell.execute_reply": "2022-11-07T00:48:06.541040Z"
        },
        "trusted": true,
        "id": "0GBTavd1km-5"
      },
      "execution_count": null,
      "outputs": []
    },
    {
      "cell_type": "markdown",
      "source": [
        "# **1. Movie Recommendation with Pyspark** <a class=\"anchor\" id=\"1\"></a>\n",
        "\n",
        "[Go back to table of contents](#0.1)\n",
        "\n",
        "Firstly, We need to create a spark container by calling SparkSession. This step is necessary before doing anything"
      ],
      "metadata": {
        "id": "K4UzKRwLkm-6"
      }
    },
    {
      "cell_type": "code",
      "source": [
        "# Create SparkSession\n",
        "spark = SparkSession.builder.appName('recommender_system').getOrCreate()"
      ],
      "metadata": {
        "execution": {
          "iopub.status.busy": "2022-11-07T00:48:12.285350Z",
          "iopub.execute_input": "2022-11-07T00:48:12.285771Z",
          "iopub.status.idle": "2022-11-07T00:48:18.248622Z",
          "shell.execute_reply.started": "2022-11-07T00:48:12.285732Z",
          "shell.execute_reply": "2022-11-07T00:48:18.247334Z"
        },
        "trusted": true,
        "id": "3VtNOQtdkm-6"
      },
      "execution_count": null,
      "outputs": []
    },
    {
      "cell_type": "markdown",
      "source": [
        "### Pyspark.toPandas() method allow us to return SparkDataFrame as Pandas table display"
      ],
      "metadata": {
        "id": "UtBrnZP-km-7"
      }
    },
    {
      "cell_type": "code",
      "source": [
        "# load the dataset and create sprk dataframe\n",
        "df=spark.read.csv('/content/movie_ratings_df.csv',inferSchema=True,header=True)\n",
        "# Using limit(), or select() or show() to view the data. I often use limit()\n",
        "# Using toPandas() method to return Pyspark DataFrame as Pandas table\n",
        "df.show(3)"
      ],
      "metadata": {
        "execution": {
          "iopub.status.busy": "2022-11-07T00:48:30.610891Z",
          "iopub.execute_input": "2022-11-07T00:48:30.611686Z",
          "iopub.status.idle": "2022-11-07T00:48:31.408635Z",
          "shell.execute_reply.started": "2022-11-07T00:48:30.611625Z",
          "shell.execute_reply": "2022-11-07T00:48:31.407719Z"
        },
        "trusted": true,
        "colab": {
          "base_uri": "https://localhost:8080/"
        },
        "id": "s-Zf2cONkm-7",
        "outputId": "2eec8fff-fbf4-4827-d92f-2b774db6b819"
      },
      "execution_count": null,
      "outputs": [
        {
          "output_type": "stream",
          "name": "stdout",
          "text": [
            "+------+------------+------+\n",
            "|userId|       title|rating|\n",
            "+------+------------+------+\n",
            "|   196|Kolya (1996)|     3|\n",
            "|    63|Kolya (1996)|     3|\n",
            "|   226|Kolya (1996)|     5|\n",
            "+------+------------+------+\n",
            "only showing top 3 rows\n",
            "\n"
          ]
        }
      ]
    },
    {
      "cell_type": "markdown",
      "source": [
        "## Our task: given a user, we predict and return a list of movies recommendation for that user to watch.\n",
        "\n",
        "### We use: **printSchema()** to quick overview of features datatype"
      ],
      "metadata": {
        "id": "U7Yzy6g_km-8"
      }
    },
    {
      "cell_type": "code",
      "source": [
        "df.printSchema()"
      ],
      "metadata": {
        "execution": {
          "iopub.status.busy": "2022-11-07T00:48:31.410113Z",
          "iopub.execute_input": "2022-11-07T00:48:31.410680Z",
          "iopub.status.idle": "2022-11-07T00:48:31.419053Z",
          "shell.execute_reply.started": "2022-11-07T00:48:31.410643Z",
          "shell.execute_reply": "2022-11-07T00:48:31.417682Z"
        },
        "trusted": true,
        "colab": {
          "base_uri": "https://localhost:8080/"
        },
        "id": "ec1IfUD1km-8",
        "outputId": "5ba1342d-87ca-4ecd-daa9-eeff93378dd4"
      },
      "execution_count": null,
      "outputs": [
        {
          "output_type": "stream",
          "name": "stdout",
          "text": [
            "root\n",
            " |-- userId: integer (nullable = true)\n",
            " |-- title: string (nullable = true)\n",
            " |-- rating: integer (nullable = true)\n",
            "\n"
          ]
        }
      ]
    },
    {
      "cell_type": "markdown",
      "source": [
        "### As we can see, the title column is stored as string type. To work with pyspark Mlib library, we need to convert string type to numeric values"
      ],
      "metadata": {
        "id": "blDRtljRkm-8"
      }
    },
    {
      "cell_type": "code",
      "source": [
        "from pyspark.ml.feature import StringIndexer, IndexToString\n",
        "stringIndexer = StringIndexer(inputCol='title', outputCol='title_new')\n",
        "# Applying stringindexer object on dataframe movie title column\n",
        "model = stringIndexer.fit(df)\n",
        "#creating new dataframe with transformed values\n",
        "indexed = model.transform(df)\n",
        "# #validate the numerical title values\n",
        "indexed.toPandas()"
      ],
      "metadata": {
        "execution": {
          "iopub.status.busy": "2022-11-07T00:48:50.810681Z",
          "iopub.execute_input": "2022-11-07T00:48:50.811024Z",
          "iopub.status.idle": "2022-11-07T00:48:51.544857Z",
          "shell.execute_reply.started": "2022-11-07T00:48:50.810988Z",
          "shell.execute_reply": "2022-11-07T00:48:51.542984Z"
        },
        "trusted": true,
        "colab": {
          "base_uri": "https://localhost:8080/",
          "height": 424
        },
        "id": "M3k0Qg61km-9",
        "outputId": "3661f56b-cc7c-4c4d-de8b-00d006282bb9"
      },
      "execution_count": null,
      "outputs": [
        {
          "output_type": "execute_result",
          "data": {
            "text/plain": [
              "       userId                                              title  rating  \\\n",
              "0         196                                       Kolya (1996)       3   \n",
              "1          63                                       Kolya (1996)       3   \n",
              "2         226                                       Kolya (1996)       5   \n",
              "3         154                                       Kolya (1996)       3   \n",
              "4         306                                       Kolya (1996)       5   \n",
              "...       ...                                                ...     ...   \n",
              "99995     840                                  Mamma Roma (1962)       4   \n",
              "99996     655                             Eighth Day, The (1996)       3   \n",
              "99997     655                                  Girls Town (1996)       3   \n",
              "99998     655  Silence of the Palace, The (Saimt el Qusur) (1...       3   \n",
              "99999     655                                    Dadetown (1995)       3   \n",
              "\n",
              "       title_new  \n",
              "0          287.0  \n",
              "1          287.0  \n",
              "2          287.0  \n",
              "3          287.0  \n",
              "4          287.0  \n",
              "...          ...  \n",
              "99995     1597.0  \n",
              "99996     1555.0  \n",
              "99997     1568.0  \n",
              "99998     1628.0  \n",
              "99999     1549.0  \n",
              "\n",
              "[100000 rows x 4 columns]"
            ],
            "text/html": [
              "\n",
              "  <div id=\"df-dc62b19b-b34e-47fb-bbf5-70dc55ed48f8\">\n",
              "    <div class=\"colab-df-container\">\n",
              "      <div>\n",
              "<style scoped>\n",
              "    .dataframe tbody tr th:only-of-type {\n",
              "        vertical-align: middle;\n",
              "    }\n",
              "\n",
              "    .dataframe tbody tr th {\n",
              "        vertical-align: top;\n",
              "    }\n",
              "\n",
              "    .dataframe thead th {\n",
              "        text-align: right;\n",
              "    }\n",
              "</style>\n",
              "<table border=\"1\" class=\"dataframe\">\n",
              "  <thead>\n",
              "    <tr style=\"text-align: right;\">\n",
              "      <th></th>\n",
              "      <th>userId</th>\n",
              "      <th>title</th>\n",
              "      <th>rating</th>\n",
              "      <th>title_new</th>\n",
              "    </tr>\n",
              "  </thead>\n",
              "  <tbody>\n",
              "    <tr>\n",
              "      <th>0</th>\n",
              "      <td>196</td>\n",
              "      <td>Kolya (1996)</td>\n",
              "      <td>3</td>\n",
              "      <td>287.0</td>\n",
              "    </tr>\n",
              "    <tr>\n",
              "      <th>1</th>\n",
              "      <td>63</td>\n",
              "      <td>Kolya (1996)</td>\n",
              "      <td>3</td>\n",
              "      <td>287.0</td>\n",
              "    </tr>\n",
              "    <tr>\n",
              "      <th>2</th>\n",
              "      <td>226</td>\n",
              "      <td>Kolya (1996)</td>\n",
              "      <td>5</td>\n",
              "      <td>287.0</td>\n",
              "    </tr>\n",
              "    <tr>\n",
              "      <th>3</th>\n",
              "      <td>154</td>\n",
              "      <td>Kolya (1996)</td>\n",
              "      <td>3</td>\n",
              "      <td>287.0</td>\n",
              "    </tr>\n",
              "    <tr>\n",
              "      <th>4</th>\n",
              "      <td>306</td>\n",
              "      <td>Kolya (1996)</td>\n",
              "      <td>5</td>\n",
              "      <td>287.0</td>\n",
              "    </tr>\n",
              "    <tr>\n",
              "      <th>...</th>\n",
              "      <td>...</td>\n",
              "      <td>...</td>\n",
              "      <td>...</td>\n",
              "      <td>...</td>\n",
              "    </tr>\n",
              "    <tr>\n",
              "      <th>99995</th>\n",
              "      <td>840</td>\n",
              "      <td>Mamma Roma (1962)</td>\n",
              "      <td>4</td>\n",
              "      <td>1597.0</td>\n",
              "    </tr>\n",
              "    <tr>\n",
              "      <th>99996</th>\n",
              "      <td>655</td>\n",
              "      <td>Eighth Day, The (1996)</td>\n",
              "      <td>3</td>\n",
              "      <td>1555.0</td>\n",
              "    </tr>\n",
              "    <tr>\n",
              "      <th>99997</th>\n",
              "      <td>655</td>\n",
              "      <td>Girls Town (1996)</td>\n",
              "      <td>3</td>\n",
              "      <td>1568.0</td>\n",
              "    </tr>\n",
              "    <tr>\n",
              "      <th>99998</th>\n",
              "      <td>655</td>\n",
              "      <td>Silence of the Palace, The (Saimt el Qusur) (1...</td>\n",
              "      <td>3</td>\n",
              "      <td>1628.0</td>\n",
              "    </tr>\n",
              "    <tr>\n",
              "      <th>99999</th>\n",
              "      <td>655</td>\n",
              "      <td>Dadetown (1995)</td>\n",
              "      <td>3</td>\n",
              "      <td>1549.0</td>\n",
              "    </tr>\n",
              "  </tbody>\n",
              "</table>\n",
              "<p>100000 rows × 4 columns</p>\n",
              "</div>\n",
              "      <button class=\"colab-df-convert\" onclick=\"convertToInteractive('df-dc62b19b-b34e-47fb-bbf5-70dc55ed48f8')\"\n",
              "              title=\"Convert this dataframe to an interactive table.\"\n",
              "              style=\"display:none;\">\n",
              "        \n",
              "  <svg xmlns=\"http://www.w3.org/2000/svg\" height=\"24px\"viewBox=\"0 0 24 24\"\n",
              "       width=\"24px\">\n",
              "    <path d=\"M0 0h24v24H0V0z\" fill=\"none\"/>\n",
              "    <path d=\"M18.56 5.44l.94 2.06.94-2.06 2.06-.94-2.06-.94-.94-2.06-.94 2.06-2.06.94zm-11 1L8.5 8.5l.94-2.06 2.06-.94-2.06-.94L8.5 2.5l-.94 2.06-2.06.94zm10 10l.94 2.06.94-2.06 2.06-.94-2.06-.94-.94-2.06-.94 2.06-2.06.94z\"/><path d=\"M17.41 7.96l-1.37-1.37c-.4-.4-.92-.59-1.43-.59-.52 0-1.04.2-1.43.59L10.3 9.45l-7.72 7.72c-.78.78-.78 2.05 0 2.83L4 21.41c.39.39.9.59 1.41.59.51 0 1.02-.2 1.41-.59l7.78-7.78 2.81-2.81c.8-.78.8-2.07 0-2.86zM5.41 20L4 18.59l7.72-7.72 1.47 1.35L5.41 20z\"/>\n",
              "  </svg>\n",
              "      </button>\n",
              "      \n",
              "  <style>\n",
              "    .colab-df-container {\n",
              "      display:flex;\n",
              "      flex-wrap:wrap;\n",
              "      gap: 12px;\n",
              "    }\n",
              "\n",
              "    .colab-df-convert {\n",
              "      background-color: #E8F0FE;\n",
              "      border: none;\n",
              "      border-radius: 50%;\n",
              "      cursor: pointer;\n",
              "      display: none;\n",
              "      fill: #1967D2;\n",
              "      height: 32px;\n",
              "      padding: 0 0 0 0;\n",
              "      width: 32px;\n",
              "    }\n",
              "\n",
              "    .colab-df-convert:hover {\n",
              "      background-color: #E2EBFA;\n",
              "      box-shadow: 0px 1px 2px rgba(60, 64, 67, 0.3), 0px 1px 3px 1px rgba(60, 64, 67, 0.15);\n",
              "      fill: #174EA6;\n",
              "    }\n",
              "\n",
              "    [theme=dark] .colab-df-convert {\n",
              "      background-color: #3B4455;\n",
              "      fill: #D2E3FC;\n",
              "    }\n",
              "\n",
              "    [theme=dark] .colab-df-convert:hover {\n",
              "      background-color: #434B5C;\n",
              "      box-shadow: 0px 1px 3px 1px rgba(0, 0, 0, 0.15);\n",
              "      filter: drop-shadow(0px 1px 2px rgba(0, 0, 0, 0.3));\n",
              "      fill: #FFFFFF;\n",
              "    }\n",
              "  </style>\n",
              "\n",
              "      <script>\n",
              "        const buttonEl =\n",
              "          document.querySelector('#df-dc62b19b-b34e-47fb-bbf5-70dc55ed48f8 button.colab-df-convert');\n",
              "        buttonEl.style.display =\n",
              "          google.colab.kernel.accessAllowed ? 'block' : 'none';\n",
              "\n",
              "        async function convertToInteractive(key) {\n",
              "          const element = document.querySelector('#df-dc62b19b-b34e-47fb-bbf5-70dc55ed48f8');\n",
              "          const dataTable =\n",
              "            await google.colab.kernel.invokeFunction('convertToInteractive',\n",
              "                                                     [key], {});\n",
              "          if (!dataTable) return;\n",
              "\n",
              "          const docLinkHtml = 'Like what you see? Visit the ' +\n",
              "            '<a target=\"_blank\" href=https://colab.research.google.com/notebooks/data_table.ipynb>data table notebook</a>'\n",
              "            + ' to learn more about interactive tables.';\n",
              "          element.innerHTML = '';\n",
              "          dataTable['output_type'] = 'display_data';\n",
              "          await google.colab.output.renderOutput(dataTable, element);\n",
              "          const docLink = document.createElement('div');\n",
              "          docLink.innerHTML = docLinkHtml;\n",
              "          element.appendChild(docLink);\n",
              "        }\n",
              "      </script>\n",
              "    </div>\n",
              "  </div>\n",
              "  "
            ]
          },
          "metadata": {},
          "execution_count": 22
        }
      ]
    },
    {
      "cell_type": "markdown",
      "source": [],
      "metadata": {
        "id": "lRgatP0Gzysh"
      }
    },
    {
      "cell_type": "markdown",
      "source": [
        "### We use Alternating least squares (ALS) algorithm in Pyspark Ml library for recommendation. To read more, you can visit at https://spark.apache.org/docs/2.2.0/ml-collaborative-filtering.html"
      ],
      "metadata": {
        "id": "G8LeO1lzkm--"
      }
    },
    {
      "cell_type": "code",
      "source": [
        "# split the data into training and test datatset\n",
        "train, test = indexed.randomSplit([0.75,0.25])"
      ],
      "metadata": {
        "id": "Q5Iedboj0sBW"
      },
      "execution_count": null,
      "outputs": []
    },
    {
      "cell_type": "code",
      "source": [
        "from pyspark.ml.recommendation import ALS\n",
        "\n",
        "#Training the recommender model using train datatset\n",
        "rec=ALS( maxIter=10\n",
        "        ,regParam=0.01\n",
        "        ,userCol='userId'\n",
        "        ,itemCol='title_new'\n",
        "        ,ratingCol='rating'\n",
        "        ,nonnegative=True\n",
        "        ,coldStartStrategy=\"drop\")\n",
        "\n",
        "#fit the model on train set\n",
        "rec_model=rec.fit(train)\n",
        "\n",
        "#making predictions on test set \n",
        "predicted_ratings=rec_model.transform(test)\n",
        "predicted_ratings.limit(5).toPandas()"
      ],
      "metadata": {
        "trusted": true,
        "colab": {
          "base_uri": "https://localhost:8080/",
          "height": 206
        },
        "id": "OudgWmq1km--",
        "outputId": "7a29d0ec-cf05-41ee-d472-595e83645dc4"
      },
      "execution_count": null,
      "outputs": [
        {
          "output_type": "execute_result",
          "data": {
            "text/plain": [
              "   userId                                              title  rating  \\\n",
              "0     148                       2001: A Space Odyssey (1968)       5   \n",
              "1     148                                  Abyss, The (1989)       4   \n",
              "2     148                                 Being There (1979)       5   \n",
              "3     148  Dr. Strangelove or: How I Learned to Stop Worr...       5   \n",
              "4     148                 Four Weddings and a Funeral (1994)       5   \n",
              "\n",
              "   title_new  prediction  \n",
              "0       59.0    4.881881  \n",
              "1      200.0    3.470735  \n",
              "2      290.0    7.425135  \n",
              "3      123.0    7.014516  \n",
              "4       66.0    3.942170  "
            ],
            "text/html": [
              "\n",
              "  <div id=\"df-8706c215-6182-4445-b8fb-a2e1223f57e8\">\n",
              "    <div class=\"colab-df-container\">\n",
              "      <div>\n",
              "<style scoped>\n",
              "    .dataframe tbody tr th:only-of-type {\n",
              "        vertical-align: middle;\n",
              "    }\n",
              "\n",
              "    .dataframe tbody tr th {\n",
              "        vertical-align: top;\n",
              "    }\n",
              "\n",
              "    .dataframe thead th {\n",
              "        text-align: right;\n",
              "    }\n",
              "</style>\n",
              "<table border=\"1\" class=\"dataframe\">\n",
              "  <thead>\n",
              "    <tr style=\"text-align: right;\">\n",
              "      <th></th>\n",
              "      <th>userId</th>\n",
              "      <th>title</th>\n",
              "      <th>rating</th>\n",
              "      <th>title_new</th>\n",
              "      <th>prediction</th>\n",
              "    </tr>\n",
              "  </thead>\n",
              "  <tbody>\n",
              "    <tr>\n",
              "      <th>0</th>\n",
              "      <td>148</td>\n",
              "      <td>2001: A Space Odyssey (1968)</td>\n",
              "      <td>5</td>\n",
              "      <td>59.0</td>\n",
              "      <td>4.881881</td>\n",
              "    </tr>\n",
              "    <tr>\n",
              "      <th>1</th>\n",
              "      <td>148</td>\n",
              "      <td>Abyss, The (1989)</td>\n",
              "      <td>4</td>\n",
              "      <td>200.0</td>\n",
              "      <td>3.470735</td>\n",
              "    </tr>\n",
              "    <tr>\n",
              "      <th>2</th>\n",
              "      <td>148</td>\n",
              "      <td>Being There (1979)</td>\n",
              "      <td>5</td>\n",
              "      <td>290.0</td>\n",
              "      <td>7.425135</td>\n",
              "    </tr>\n",
              "    <tr>\n",
              "      <th>3</th>\n",
              "      <td>148</td>\n",
              "      <td>Dr. Strangelove or: How I Learned to Stop Worr...</td>\n",
              "      <td>5</td>\n",
              "      <td>123.0</td>\n",
              "      <td>7.014516</td>\n",
              "    </tr>\n",
              "    <tr>\n",
              "      <th>4</th>\n",
              "      <td>148</td>\n",
              "      <td>Four Weddings and a Funeral (1994)</td>\n",
              "      <td>5</td>\n",
              "      <td>66.0</td>\n",
              "      <td>3.942170</td>\n",
              "    </tr>\n",
              "  </tbody>\n",
              "</table>\n",
              "</div>\n",
              "      <button class=\"colab-df-convert\" onclick=\"convertToInteractive('df-8706c215-6182-4445-b8fb-a2e1223f57e8')\"\n",
              "              title=\"Convert this dataframe to an interactive table.\"\n",
              "              style=\"display:none;\">\n",
              "        \n",
              "  <svg xmlns=\"http://www.w3.org/2000/svg\" height=\"24px\"viewBox=\"0 0 24 24\"\n",
              "       width=\"24px\">\n",
              "    <path d=\"M0 0h24v24H0V0z\" fill=\"none\"/>\n",
              "    <path d=\"M18.56 5.44l.94 2.06.94-2.06 2.06-.94-2.06-.94-.94-2.06-.94 2.06-2.06.94zm-11 1L8.5 8.5l.94-2.06 2.06-.94-2.06-.94L8.5 2.5l-.94 2.06-2.06.94zm10 10l.94 2.06.94-2.06 2.06-.94-2.06-.94-.94-2.06-.94 2.06-2.06.94z\"/><path d=\"M17.41 7.96l-1.37-1.37c-.4-.4-.92-.59-1.43-.59-.52 0-1.04.2-1.43.59L10.3 9.45l-7.72 7.72c-.78.78-.78 2.05 0 2.83L4 21.41c.39.39.9.59 1.41.59.51 0 1.02-.2 1.41-.59l7.78-7.78 2.81-2.81c.8-.78.8-2.07 0-2.86zM5.41 20L4 18.59l7.72-7.72 1.47 1.35L5.41 20z\"/>\n",
              "  </svg>\n",
              "      </button>\n",
              "      \n",
              "  <style>\n",
              "    .colab-df-container {\n",
              "      display:flex;\n",
              "      flex-wrap:wrap;\n",
              "      gap: 12px;\n",
              "    }\n",
              "\n",
              "    .colab-df-convert {\n",
              "      background-color: #E8F0FE;\n",
              "      border: none;\n",
              "      border-radius: 50%;\n",
              "      cursor: pointer;\n",
              "      display: none;\n",
              "      fill: #1967D2;\n",
              "      height: 32px;\n",
              "      padding: 0 0 0 0;\n",
              "      width: 32px;\n",
              "    }\n",
              "\n",
              "    .colab-df-convert:hover {\n",
              "      background-color: #E2EBFA;\n",
              "      box-shadow: 0px 1px 2px rgba(60, 64, 67, 0.3), 0px 1px 3px 1px rgba(60, 64, 67, 0.15);\n",
              "      fill: #174EA6;\n",
              "    }\n",
              "\n",
              "    [theme=dark] .colab-df-convert {\n",
              "      background-color: #3B4455;\n",
              "      fill: #D2E3FC;\n",
              "    }\n",
              "\n",
              "    [theme=dark] .colab-df-convert:hover {\n",
              "      background-color: #434B5C;\n",
              "      box-shadow: 0px 1px 3px 1px rgba(0, 0, 0, 0.15);\n",
              "      filter: drop-shadow(0px 1px 2px rgba(0, 0, 0, 0.3));\n",
              "      fill: #FFFFFF;\n",
              "    }\n",
              "  </style>\n",
              "\n",
              "      <script>\n",
              "        const buttonEl =\n",
              "          document.querySelector('#df-8706c215-6182-4445-b8fb-a2e1223f57e8 button.colab-df-convert');\n",
              "        buttonEl.style.display =\n",
              "          google.colab.kernel.accessAllowed ? 'block' : 'none';\n",
              "\n",
              "        async function convertToInteractive(key) {\n",
              "          const element = document.querySelector('#df-8706c215-6182-4445-b8fb-a2e1223f57e8');\n",
              "          const dataTable =\n",
              "            await google.colab.kernel.invokeFunction('convertToInteractive',\n",
              "                                                     [key], {});\n",
              "          if (!dataTable) return;\n",
              "\n",
              "          const docLinkHtml = 'Like what you see? Visit the ' +\n",
              "            '<a target=\"_blank\" href=https://colab.research.google.com/notebooks/data_table.ipynb>data table notebook</a>'\n",
              "            + ' to learn more about interactive tables.';\n",
              "          element.innerHTML = '';\n",
              "          dataTable['output_type'] = 'display_data';\n",
              "          await google.colab.output.renderOutput(dataTable, element);\n",
              "          const docLink = document.createElement('div');\n",
              "          docLink.innerHTML = docLinkHtml;\n",
              "          element.appendChild(docLink);\n",
              "        }\n",
              "      </script>\n",
              "    </div>\n",
              "  </div>\n",
              "  "
            ]
          },
          "metadata": {},
          "execution_count": 25
        }
      ]
    },
    {
      "cell_type": "markdown",
      "source": [
        "### Evaluate the training"
      ],
      "metadata": {
        "id": "8HOS96f5km--"
      }
    },
    {
      "cell_type": "code",
      "source": [
        "# Importing Regression Evaluator to measure RMSE\n",
        "from pyspark.ml.evaluation import RegressionEvaluator\n",
        "# create Regressor evaluator object for measuring accuracy\n",
        "evaluator=RegressionEvaluator(metricName='rmse',predictionCol='prediction',labelCol='rating')\n",
        "# apply the RE on predictions dataframe to calculate RMSE\n",
        "rmse=evaluator.evaluate(predicted_ratings)\n",
        "# print RMSE error\n",
        "print(rmse)"
      ],
      "metadata": {
        "trusted": true,
        "colab": {
          "base_uri": "https://localhost:8080/"
        },
        "id": "OaF7Pxfhkm--",
        "outputId": "1357d7e9-986d-4e87-a799-0b186feb01bd"
      },
      "execution_count": null,
      "outputs": [
        {
          "output_type": "stream",
          "name": "stdout",
          "text": [
            "1.0237301475577005\n"
          ]
        }
      ]
    },
    {
      "cell_type": "markdown",
      "source": [
        "### After training, now is the time to recommend top movies which user might like "
      ],
      "metadata": {
        "id": "mv5om5jlkm-_"
      }
    },
    {
      "cell_type": "code",
      "source": [
        "# First we need to create dataset of all distinct movies \n",
        "unique_movies=indexed.select('title_new').distinct()\n",
        "\n",
        "#create function to recommend top 'n' movies to any particular user\n",
        "def top_movies(user_id,n):\n",
        "    \"\"\"\n",
        "    This function returns the top 'n' movies that user has not seen yet but might like \n",
        "    \n",
        "    \"\"\"\n",
        "    #assigning alias name 'a' to unique movies df\n",
        "    a = unique_movies.alias('a')\n",
        "    \n",
        "    #creating another dataframe which contains already watched movie by active user \n",
        "    watched_movies=indexed.filter(indexed['userId'] == user_id).select('title_new')\n",
        "    \n",
        "    #assigning alias name 'b' to watched movies df\n",
        "    b=watched_movies.alias('b')\n",
        "    \n",
        "    #joining both tables on left join \n",
        "    total_movies = a.join(b, a.title_new == b.title_new,how='left')\n",
        "    \n",
        "    #selecting movies which active user is yet to rate or watch\n",
        "    remaining_movies=total_movies.where(col(\"b.title_new\").isNull()).select(a.title_new).distinct()\n",
        "    \n",
        "    \n",
        "    #adding new column of user_Id of active useer to remaining movies df \n",
        "    remaining_movies=remaining_movies.withColumn(\"userId\",lit(int(user_id)))\n",
        "    \n",
        "    \n",
        "    #making recommendations using ALS recommender model and selecting only top 'n' movies\n",
        "    recommendations=rec_model.transform(remaining_movies).orderBy('prediction',ascending=False).limit(n)\n",
        "    \n",
        "    \n",
        "    #adding columns of movie titles in recommendations\n",
        "    movie_title = IndexToString(inputCol=\"title_new\", outputCol=\"title\",labels=model.labels)\n",
        "    final_recommendations=movie_title.transform(recommendations)\n",
        "    \n",
        "    #return the recommendations to active user\n",
        "    return final_recommendations.show(n,False)"
      ],
      "metadata": {
        "trusted": true,
        "id": "RYIlAJodkm-_"
      },
      "execution_count": null,
      "outputs": []
    },
    {
      "cell_type": "code",
      "source": [
        "# Test: recommend 5 movies for user of id=60\n",
        "top_movies(60,5)"
      ],
      "metadata": {
        "trusted": true,
        "id": "19GrCoilkm-_"
      },
      "execution_count": null,
      "outputs": []
    },
    {
      "cell_type": "markdown",
      "source": [
        "# **2. Classification model in Pyspark** <a class=\"anchor\" id=\"2\"></a>\n",
        "\n",
        "[Go back to table of contents](#0.1)\n",
        "\n",
        "We using Titanic dataset for familiar playing with data based on Pyspark DataFrame"
      ],
      "metadata": {
        "trusted": true,
        "id": "N8ytbUGMkm-_"
      }
    },
    {
      "cell_type": "markdown",
      "source": [
        "## **2.1 EDA in Pyspark** <a class=\"anchor\" id=\"2.1\"></a>\n",
        "\n",
        "[Go back to table of contents](#0.1)"
      ],
      "metadata": {
        "id": "Hlxc6R8bkm-_"
      }
    },
    {
      "cell_type": "code",
      "source": [
        "# Firstly we create sparkSession (like a container)\n",
        "spark = SparkSession.builder.appName('Play with pyspark ML on titatic_dataset').getOrCreate()\n",
        "# After creating spark, we use spark.read.csv to read dataset, like pandas.read_csv\n",
        "df = spark.read.csv('../input/titanic/train.csv',header = 'True',inferSchema='True')"
      ],
      "metadata": {
        "trusted": true,
        "id": "WD1ycyQgkm_A"
      },
      "execution_count": null,
      "outputs": []
    },
    {
      "cell_type": "code",
      "source": [
        "df.limit(3).toPandas()"
      ],
      "metadata": {
        "trusted": true,
        "id": "37O7SWN5km_A"
      },
      "execution_count": null,
      "outputs": []
    },
    {
      "cell_type": "code",
      "source": [
        "df.printSchema()"
      ],
      "metadata": {
        "trusted": true,
        "id": "j_Rp4pQwkm_A"
      },
      "execution_count": null,
      "outputs": []
    },
    {
      "cell_type": "markdown",
      "source": [
        "### For visualization,before using visual library (matplotlib, seaborn, ..)we need to convert SparkDataframe to PandasDataFrame "
      ],
      "metadata": {
        "id": "9X-AurkOkm_A"
      }
    },
    {
      "cell_type": "code",
      "source": [
        "pandas_df = df.toPandas()\n",
        "\n",
        "plt.figure(figsize=(10,5))\n",
        "plt.title('Age distribution among all Pasengers')\n",
        "sns.distplot(pandas_df['Age']);"
      ],
      "metadata": {
        "trusted": true,
        "id": "fiH0zIs8km_A"
      },
      "execution_count": null,
      "outputs": []
    },
    {
      "cell_type": "markdown",
      "source": [
        "## Checking null values in Pyspark\n",
        "\n",
        "* isnan() is a function of the pysparq.sql.function package, we have to set which column we want to use as an argument of the function. \n",
        "* isNull()\" belongs to pyspark.sql.Column package, to check the null status of a column\n",
        "\n",
        "To check null in Pyspark, we use both function above"
      ],
      "metadata": {
        "id": "m_d1YUydkm_A"
      }
    },
    {
      "cell_type": "code",
      "source": [
        "from pyspark.sql.functions import isnan, when, count, col\n",
        "df.select([count(when(isnan(c) | col(c).isNull(), c)).alias(c) for c in df.columns]).show()"
      ],
      "metadata": {
        "trusted": true,
        "id": "2SbsK7_Okm_B"
      },
      "execution_count": null,
      "outputs": []
    },
    {
      "cell_type": "code",
      "source": [
        "# Because Cabin column has a lot missing value ( > 50%) so we can remove it\n",
        "df = df.drop(\"Cabin\")"
      ],
      "metadata": {
        "trusted": true,
        "id": "d37qhPLakm_B"
      },
      "execution_count": null,
      "outputs": []
    },
    {
      "cell_type": "markdown",
      "source": [
        "To replace these NaN values, we can assign them the mean age of the dataset.But the problem is, there were many people with many different ages. \n",
        "\n",
        "In 'Name' feature, we can see that the names have a salutation like Mr or Mrs. Thus we can assign the mean values of Mr and Mrs to the respective groups\n",
        "\n",
        "**Using the Regex \"\"[A-Za-z]+).\" we extract the initials from the Name. It looks for strings which lie between A-Z or a-z and followed by a .(dot).**"
      ],
      "metadata": {
        "id": "DFTk-rlmkm_B"
      }
    },
    {
      "cell_type": "code",
      "source": [
        "df = df.withColumn(\"Initial\",regexp_extract(col(\"Name\"),\"([A-Za-z]+)\\.\",1))\n",
        "df.limit(3).toPandas()"
      ],
      "metadata": {
        "trusted": true,
        "id": "2ugZR_Ehkm_B"
      },
      "execution_count": null,
      "outputs": []
    },
    {
      "cell_type": "code",
      "source": [
        "# There are some misspelled Initials like Mlle or Mme that stand for Miss. we will replace them with Miss and same thing for other values.\n",
        "df = df.replace(['Mlle','Mme', 'Ms', 'Dr','Major','Lady','Countess','Jonkheer','Col','Rev','Capt','Sir','Don'],\n",
        "                        ['Miss','Miss','Miss','Mr','Mr',  'Mrs',  'Mrs',  'Other',  'Other','Other','Mr','Mr','Mr'])\n",
        "\n",
        "# Checking the average age by Initials\n",
        "df.groupby('Initial').avg('Age').collect()"
      ],
      "metadata": {
        "trusted": true,
        "id": "CWZoQ0OIkm_B"
      },
      "execution_count": null,
      "outputs": []
    },
    {
      "cell_type": "code",
      "source": [
        "# Assigning missing values in age feature based on average age of Initials\n",
        "df = df.withColumn(\"Age\",when((df[\"Initial\"] == \"Miss\")   & (df[\"Age\"].isNull()), 22).otherwise(df[\"Age\"]))\n",
        "df = df.withColumn(\"Age\",when((df[\"Initial\"] == \"Other\")  & (df[\"Age\"].isNull()), 46).otherwise(df[\"Age\"]))\n",
        "df = df.withColumn(\"Age\",when((df[\"Initial\"] == \"Master\") & (df[\"Age\"].isNull()), 5).otherwise( df[\"Age\"]))\n",
        "df = df.withColumn(\"Age\",when((df[\"Initial\"] == \"Mr\")     & (df[\"Age\"].isNull()), 33).otherwise(df[\"Age\"]))\n",
        "df = df.withColumn(\"Age\",when((df[\"Initial\"] == \"Mrs\")    & (df[\"Age\"].isNull()), 36).otherwise(df[\"Age\"]))"
      ],
      "metadata": {
        "trusted": true,
        "id": "RPShHYgKkm_B"
      },
      "execution_count": null,
      "outputs": []
    },
    {
      "cell_type": "code",
      "source": [
        "# Embarked columns has two missing values, let check it\n",
        "df.groupBy(\"Embarked\").count().show()"
      ],
      "metadata": {
        "trusted": true,
        "id": "pg7qlQu9km_C"
      },
      "execution_count": null,
      "outputs": []
    },
    {
      "cell_type": "markdown",
      "source": [
        "### We using PysparkDataFrame.na.fill() to fill a value to specific column"
      ],
      "metadata": {
        "id": "FoxNhwKhkm_C"
      }
    },
    {
      "cell_type": "code",
      "source": [
        "# As we can see, Majority Passengers boarded from \"S\". We can assign missing value with \"S\"\n",
        "df = df.na.fill({\"Embarked\" : 'S'})\n",
        "# Check again the missing value status\n",
        "df.select([count(when(isnan(c) | col(c).isNull(), c)).alias(c) for c in df.columns]).show()"
      ],
      "metadata": {
        "trusted": true,
        "id": "NEJrmRZOkm_C"
      },
      "execution_count": null,
      "outputs": []
    },
    {
      "cell_type": "markdown",
      "source": [
        "#### After handling missing values, we do some simple feature engineering\n",
        "#### in Feature engineering, we can use Pyspark multiple condition with syntax: \"When otherwise\"\n",
        "#### To learn more about multiple condition in pyspark, you can visit at https://sparkbyexamples.com/spark/spark-case-when-otherwise-example/"
      ],
      "metadata": {
        "id": "7G6ucXnAkm_C"
      }
    },
    {
      "cell_type": "code",
      "source": [
        "df = df.withColumn(\"Family_Size\",col('SibSp')+col('Parch')) # Create new column: Family_size\n",
        "df = df.withColumn('Alone',lit(0))  # Create new column: Alone and assign 0 default value to Alone column\n",
        "df = df.withColumn(\"Alone\",when(df[\"Family_Size\"] == 0, 1).otherwise(df[\"Alone\"]))\n",
        "\n",
        "# converting Sex, Embarked & Initial columns from string to number using StringIndexer\n",
        "indexers = [StringIndexer(inputCol=column, outputCol=column+\"_index\").fit(df) for column in [\"Sex\",\"Embarked\",\"Initial\"]]\n",
        "pipeline = Pipeline(stages=indexers)\n",
        "df = pipeline.fit(df).transform(df)"
      ],
      "metadata": {
        "trusted": true,
        "id": "-yum6WI3km_C"
      },
      "execution_count": null,
      "outputs": []
    },
    {
      "cell_type": "code",
      "source": [
        "df.limit(3).toPandas()"
      ],
      "metadata": {
        "trusted": true,
        "id": "Uiwo-fagkm_C"
      },
      "execution_count": null,
      "outputs": []
    },
    {
      "cell_type": "code",
      "source": [
        "# Now we drop columns that not needed for modelling\n",
        "df = df.drop(\"PassengerId\",\"Name\",\"Ticket\",\"Cabin\",\"Embarked\",\"Sex\",\"Initial\")\n",
        "\n",
        "# Before modelling in Pyspark, we need to put all features to Vector using Pyspark VectorAssembler\n",
        "feature = VectorAssembler(inputCols = df.columns[1:],outputCol=\"features\")\n",
        "feature_vector= feature.transform(df)\n",
        "feature_vector.limit(3).toPandas()"
      ],
      "metadata": {
        "trusted": true,
        "id": "XTCDtegwkm_C"
      },
      "execution_count": null,
      "outputs": []
    },
    {
      "cell_type": "code",
      "source": [
        "# for data split in pyspark, we can use df.randomSplit()\n",
        "(train_df, test_df) = feature_vector.randomSplit([0.8, 0.2],seed = 11)"
      ],
      "metadata": {
        "trusted": true,
        "id": "fAH3hWMOkm_D"
      },
      "execution_count": null,
      "outputs": []
    },
    {
      "cell_type": "code",
      "source": [
        "train_df.printSchema()"
      ],
      "metadata": {
        "trusted": true,
        "id": "9-2r0ZMOkm_D"
      },
      "execution_count": null,
      "outputs": []
    },
    {
      "cell_type": "markdown",
      "source": [
        "## **2.2 Machine learning in pyspark** <a class=\"anchor\" id=\"2.2\"></a>\n",
        "\n",
        "[Go back to table of contents](#0.1)\n",
        "\n",
        "\n",
        "### Just for practising, I'll use some of learning algorithm\n",
        "\n",
        "1. LogisticRegression\n",
        " \n",
        "1. RandomForestClassifier\n",
        "\n",
        "1. Gradient-boosted tree classifier "
      ],
      "metadata": {
        "id": "_Bs5fLFTkm_D"
      }
    },
    {
      "cell_type": "code",
      "source": [
        "# Select features column for features training and 'Survived' as label to predict\n",
        "titanic_df = feature_vector.select(['features','Survived'])\n",
        "# Split the dataset to train_df and test_df\n",
        "train_df,test_df = titanic_df.randomSplit([0.75,0.25])"
      ],
      "metadata": {
        "trusted": true,
        "id": "mcTRCgvFkm_D"
      },
      "execution_count": null,
      "outputs": []
    },
    {
      "cell_type": "markdown",
      "source": [
        "## Logistic regression"
      ],
      "metadata": {
        "id": "QJxdUG9Vkm_D"
      }
    },
    {
      "cell_type": "code",
      "source": [
        "# LOAD PYSPARK LIBRARIES\n",
        "from pyspark.ml.classification import LogisticRegression\n",
        "from pyspark.ml.tuning import ParamGridBuilder, TrainValidationSplit\n",
        "from pyspark.ml import Pipeline\n",
        "from pyspark.ml.evaluation import BinaryClassificationEvaluator\n",
        "from pyspark.ml.tuning import CrossValidator, ParamGridBuilder\n",
        "from sklearn.metrics import roc_curve,auc\n",
        "\n",
        "# DEFINE ALGORITHM \n",
        "lr = LogisticRegression(labelCol=\"Survived\")\n",
        "\n",
        "# DEFINE GRID PARAMETERS\n",
        "paramGrid = ParamGridBuilder().addGrid(lr.regParam, (0.01, 0.1))\\\n",
        "                              .addGrid(lr.maxIter, (5, 10))\\\n",
        "                              .addGrid(lr.tol, (1e-4, 1e-5))\\\n",
        "                              .addGrid(lr.elasticNetParam, (0.25,0.75))\\\n",
        "                              .build()\n",
        "\n",
        "# DEFINE CROSS VALIDATION WITH PARAMETERS\n",
        "tvs = TrainValidationSplit( estimator=lr\n",
        "                           ,estimatorParamMaps=paramGrid\n",
        "                           ,evaluator=MulticlassClassificationEvaluator(labelCol='Survived')\n",
        "                           ,trainRatio=0.8)\n",
        "model = tvs.fit(train_df)\n",
        "model_predictions= model.transform(test_df)\n",
        "\n",
        "print('Accuracy: ', MulticlassClassificationEvaluator(labelCol='Survived',metricName='accuracy').evaluate(model_predictions))\n",
        "print('Precision: ',MulticlassClassificationEvaluator(labelCol='Survived',metricName='weightedPrecision').evaluate(model_predictions))\n"
      ],
      "metadata": {
        "trusted": true,
        "id": "IRQKXk6Zkm_D"
      },
      "execution_count": null,
      "outputs": []
    },
    {
      "cell_type": "markdown",
      "source": [
        "### Evaluating ROC metric"
      ],
      "metadata": {
        "id": "uZRQLSMpkm_D"
      }
    },
    {
      "cell_type": "code",
      "source": [
        "from pyspark.mllib.evaluation import BinaryClassificationMetrics as metric\n",
        "from pyspark import SparkContext\n",
        "sc =SparkContext.getOrCreate()   # We need to create SparkContext\n",
        "results = model_predictions.select(['probability', 'Survived'])\n",
        " \n",
        "## prepare score-label set\n",
        "results_collect = results.collect()\n",
        "results_list = [(float(i[0][0]), 1.0-float(i[1])) for i in results_collect]\n",
        "scoreAndLabels = sc.parallelize(results_list)\n",
        " \n",
        "metrics = metric(scoreAndLabels)\n",
        "print(\"The ROC score is : \", metrics.areaUnderROC)"
      ],
      "metadata": {
        "trusted": true,
        "id": "0AWe5DGikm_D"
      },
      "execution_count": null,
      "outputs": []
    },
    {
      "cell_type": "markdown",
      "source": [
        "### Visualizing AUC metrics"
      ],
      "metadata": {
        "id": "WQ8yNGlDkm_E"
      }
    },
    {
      "cell_type": "code",
      "source": [
        "from sklearn.metrics import roc_curve, auc\n",
        " \n",
        "fpr = dict()\n",
        "tpr = dict()\n",
        "roc_auc = dict()\n",
        " \n",
        "y_test = [i[1] for i in results_list]\n",
        "y_score = [i[0] for i in results_list]\n",
        " \n",
        "fpr, tpr, _ = roc_curve(y_test, y_score)\n",
        "roc_auc = auc(fpr, tpr)\n",
        " \n",
        "%matplotlib inline\n",
        "plt.figure()\n",
        "plt.plot(fpr, tpr, label='ROC curve (area = %0.2f)' % roc_auc)\n",
        "plt.plot([0, 1], [0, 1], 'k--')\n",
        "plt.xlim([0.0, 1.0])\n",
        "plt.ylim([0.0, 1.05])\n",
        "plt.xlabel('False Positive Rate')\n",
        "plt.ylabel('True Positive Rate')\n",
        "plt.title('Area under the ROC Curve')\n",
        "plt.legend(loc=\"lower right\")\n",
        "plt.show()"
      ],
      "metadata": {
        "trusted": true,
        "id": "Z9ZeQKOLkm_E"
      },
      "execution_count": null,
      "outputs": []
    },
    {
      "cell_type": "markdown",
      "source": [
        "## Random Forest"
      ],
      "metadata": {
        "id": "jRUYfPhAkm_E"
      }
    },
    {
      "cell_type": "code",
      "source": [
        "\n",
        "from pyspark.ml.classification import RandomForestClassifier\n",
        "from pyspark.ml.tuning import ParamGridBuilder, TrainValidationSplit\n",
        "rf = RandomForestClassifier(labelCol='Survived')\n",
        "paramGrid = ParamGridBuilder()\\\n",
        "                                .addGrid(rf.maxDepth, [5, 10, 20]) \\\n",
        "                                .addGrid(rf.maxBins, [20, 32, 50]) \\\n",
        "                                .addGrid(rf.numTrees, [20, 40, 60 ]) \\\n",
        "                                .addGrid(rf.impurity, [\"gini\", \"entropy\"]) \\\n",
        "                                .addGrid(rf.minInstancesPerNode, [1, 5, 10]) \\\n",
        "                                .build()\n",
        "\n",
        "\n",
        "tvs = TrainValidationSplit( estimator=rf\n",
        "                           ,estimatorParamMaps=paramGrid\n",
        "                           ,evaluator=MulticlassClassificationEvaluator(labelCol='Survived')\n",
        "                           ,trainRatio=0.8)\n",
        "model = tvs.fit(train_df)\n",
        "model_predictions= model.transform(test_df)\n",
        "\n",
        "\n",
        "print('Accuracy: ', MulticlassClassificationEvaluator(labelCol='Survived',metricName='accuracy').evaluate(model_predictions))\n",
        "print('Precision: ',MulticlassClassificationEvaluator(labelCol='Survived',metricName='weightedPrecision').evaluate(model_predictions))"
      ],
      "metadata": {
        "trusted": true,
        "id": "yBdPMrVskm_E"
      },
      "execution_count": null,
      "outputs": []
    },
    {
      "cell_type": "markdown",
      "source": [
        "### Evaluating ROC metrics"
      ],
      "metadata": {
        "id": "25lw-VR5km_E"
      }
    },
    {
      "cell_type": "code",
      "source": [
        "sc =SparkContext.getOrCreate()   # We need to create SparkContext\n",
        "results = model_predictions.select(['probability', 'Survived'])\n",
        " \n",
        "## prepare score-label set\n",
        "results_collect = results.collect()\n",
        "results_list = [(float(i[0][0]), 1.0-float(i[1])) for i in results_collect]\n",
        "scoreAndLabels = sc.parallelize(results_list)\n",
        " \n",
        "metrics = metric(scoreAndLabels)\n",
        "print(\"The ROC score is : \", metrics.areaUnderROC)"
      ],
      "metadata": {
        "trusted": true,
        "id": "pYccdd3Qkm_E"
      },
      "execution_count": null,
      "outputs": []
    },
    {
      "cell_type": "markdown",
      "source": [
        "### Visualizing AUC metrics"
      ],
      "metadata": {
        "id": "lvPU77Zpkm_F"
      }
    },
    {
      "cell_type": "code",
      "source": [
        "fpr = dict()\n",
        "tpr = dict()\n",
        "roc_auc = dict()\n",
        " \n",
        "y_test = [i[1] for i in results_list]\n",
        "y_score = [i[0] for i in results_list]\n",
        " \n",
        "fpr, tpr, _ = roc_curve(y_test, y_score)\n",
        "roc_auc = auc(fpr, tpr)\n",
        " \n",
        "%matplotlib inline\n",
        "plt.figure()\n",
        "plt.plot(fpr, tpr, label='ROC curve (area = %0.2f)' % roc_auc)\n",
        "plt.plot([0, 1], [0, 1], 'k--')\n",
        "plt.xlim([0.0, 1.0])\n",
        "plt.ylim([0.0, 1.05])\n",
        "plt.xlabel('False Positive Rate')\n",
        "plt.ylabel('True Positive Rate')\n",
        "plt.title('Area under the ROC Curve')\n",
        "plt.legend(loc=\"lower right\")\n",
        "plt.show()"
      ],
      "metadata": {
        "trusted": true,
        "id": "fJgUYUFFkm_F"
      },
      "execution_count": null,
      "outputs": []
    },
    {
      "cell_type": "markdown",
      "source": [
        "## Gradient Boosted Tree\n",
        "\n",
        "If you want to run the below part, just uncomment it. I dit it in order to reduce the time of committing the kernel."
      ],
      "metadata": {
        "id": "B__du8J3km_F"
      }
    },
    {
      "cell_type": "code",
      "source": [
        "\n",
        "# from pyspark.ml.classification import GBTClassifier\n",
        "# gbt = GBTClassifier(labelCol=\"Survived\")\n",
        "# paramGrid = ParamGridBuilder()\\\n",
        "#                             .addGrid(gbt.maxDepth, [5, 10, 20]) \\\n",
        "#                             .addGrid(gbt.maxBins, [20, 32, 50]) \\\n",
        "#                             .addGrid(gbt.maxIter, [10, 20, 30]) \\\n",
        "#                             .addGrid(gbt.minInstancesPerNode, [1, 5, 10]) \\\n",
        "#                             .build()\n",
        "    \n",
        "# tvs = TrainValidationSplit(estimator=gbt\n",
        "#                            , estimatorParamMaps=paramGrid\n",
        "#                             ,evaluator=MulticlassClassificationEvaluator(labelCol='Survived')\n",
        "#                             ,trainRatio=0.8)\n",
        "# model = tvs.fit(train_df)\n",
        "# model_predictions= model.transform(test_df)\n",
        "# print('Accuracy: ', MulticlassClassificationEvaluator(labelCol='Survived',metricName='accuracy').evaluate(model_predictions))\n",
        "# print('Precision: ',MulticlassClassificationEvaluator(labelCol='Survived',metricName='weightedPrecision').evaluate(model_predictions))\n"
      ],
      "metadata": {
        "trusted": true,
        "id": "RB9qzt3Lkm_F"
      },
      "execution_count": null,
      "outputs": []
    },
    {
      "cell_type": "markdown",
      "source": [
        "### Evaluating ROC metric"
      ],
      "metadata": {
        "id": "8REeY9c7km_F"
      }
    },
    {
      "cell_type": "code",
      "source": [
        "# sc =SparkContext.getOrCreate()   # We need to create SparkContext\n",
        "# results = model_predictions.select(['probability', 'Survived'])\n",
        " \n",
        "# ## prepare score-label set\n",
        "# results_collect = results.collect()\n",
        "# results_list = [(float(i[0][0]), 1.0-float(i[1])) for i in results_collect]\n",
        "# scoreAndLabels = sc.parallelize(results_list)\n",
        " \n",
        "# metrics = metric(scoreAndLabels)\n",
        "# print(\"The ROC score is: \", metrics.areaUnderROC)"
      ],
      "metadata": {
        "trusted": true,
        "id": "62iX0898km_F"
      },
      "execution_count": null,
      "outputs": []
    },
    {
      "cell_type": "markdown",
      "source": [
        "### Visualizing AUC metrics"
      ],
      "metadata": {
        "id": "K-ES2_Bnkm_F"
      }
    },
    {
      "cell_type": "code",
      "source": [
        "# fpr = dict()\n",
        "# tpr = dict()\n",
        "# roc_auc = dict()\n",
        " \n",
        "# y_test = [i[1] for i in results_list]\n",
        "# y_score = [i[0] for i in results_list]\n",
        " \n",
        "# fpr, tpr, _ = roc_curve(y_test, y_score)\n",
        "# roc_auc = auc(fpr, tpr)\n",
        " \n",
        "# %matplotlib inline\n",
        "# plt.figure()\n",
        "# plt.plot(fpr, tpr, label='ROC curve (area = %0.2f)' % roc_auc)\n",
        "# plt.plot([0, 1], [0, 1], 'k--')\n",
        "# plt.xlim([0.0, 1.0])\n",
        "# plt.ylim([0.0, 1.05])\n",
        "# plt.xlabel('False Positive Rate')\n",
        "# plt.ylabel('True Positive Rate')\n",
        "# plt.title('Area under the ROC Curve')\n",
        "# plt.legend(loc=\"lower right\")\n",
        "# plt.show()"
      ],
      "metadata": {
        "trusted": true,
        "id": "cI1tjyrokm_F"
      },
      "execution_count": null,
      "outputs": []
    },
    {
      "cell_type": "markdown",
      "source": [
        "I hope you find this notebook beneficial and enjoyable"
      ],
      "metadata": {
        "id": "X0LZPxJnkm_G"
      }
    }
  ]
}